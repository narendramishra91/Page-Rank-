{
 "cells": [
  {
   "cell_type": "code",
   "execution_count": 1,
   "metadata": {},
   "outputs": [
    {
     "name": "stdout",
     "output_type": "stream",
     "text": [
      "Write the keyword you want to search:\n",
      "pagerank\n",
      "Pages Without ranking\n",
      "http://mathmatrix.in/pagerank/page1.html\n",
      "http://mathmatrix.in/pagerank/page2.html\n",
      "http://mathmatrix.in/pagerank/page3.html\n",
      "http://mathmatrix.in/pagerank/page4.html\n",
      "http://mathmatrix.in/pagerank/page5.html\n"
     ]
    }
   ],
   "source": [
    "import search"
   ]
  },
  {
   "cell_type": "code",
   "execution_count": 2,
   "metadata": {},
   "outputs": [],
   "source": [
    "trans_matrix = search.create_matrix()"
   ]
  },
  {
   "cell_type": "markdown",
   "metadata": {},
   "source": [
    "### Transition Matrix"
   ]
  },
  {
   "cell_type": "code",
   "execution_count": 3,
   "metadata": {},
   "outputs": [
    {
     "data": {
      "text/plain": [
       "array([[0.        , 0.5       , 0.33333333, 1.        , 0.        ],\n",
       "       [1.        , 0.        , 0.33333333, 0.        , 0.33333333],\n",
       "       [0.        , 0.5       , 0.        , 0.        , 0.33333333],\n",
       "       [0.        , 0.        , 0.        , 0.        , 0.33333333],\n",
       "       [0.        , 0.        , 0.33333333, 0.        , 0.        ]])"
      ]
     },
     "execution_count": 3,
     "metadata": {},
     "output_type": "execute_result"
    }
   ],
   "source": [
    "trans_matrix"
   ]
  },
  {
   "cell_type": "code",
   "execution_count": 4,
   "metadata": {},
   "outputs": [],
   "source": [
    "import scipy.linalg as la\n",
    "import numpy as np"
   ]
  },
  {
   "cell_type": "code",
   "execution_count": 5,
   "metadata": {},
   "outputs": [],
   "source": [
    "eigen_values, eigen_vectors = la.eig(trans_matrix)"
   ]
  },
  {
   "cell_type": "markdown",
   "metadata": {},
   "source": [
    "### eigen values of transition matrix"
   ]
  },
  {
   "cell_type": "code",
   "execution_count": 6,
   "metadata": {},
   "outputs": [
    {
     "data": {
      "text/plain": [
       "array([ 1.       +0.j        , -0.6480006+0.27072389j,\n",
       "       -0.6480006-0.27072389j,  0.1480006+0.30123039j,\n",
       "        0.1480006-0.30123039j])"
      ]
     },
     "execution_count": 6,
     "metadata": {},
     "output_type": "execute_result"
    }
   ],
   "source": [
    "eigen_values"
   ]
  },
  {
   "cell_type": "code",
   "execution_count": 7,
   "metadata": {},
   "outputs": [],
   "source": [
    "i=0"
   ]
  },
  {
   "cell_type": "code",
   "execution_count": 8,
   "metadata": {},
   "outputs": [],
   "source": [
    "for x in eigen_values:\n",
    "    global i\n",
    "    if x<=1.0001 and x>=.999:\n",
    "        break\n",
    "    i+=1\n",
    "        "
   ]
  },
  {
   "cell_type": "code",
   "execution_count": 9,
   "metadata": {},
   "outputs": [
    {
     "name": "stdout",
     "output_type": "stream",
     "text": [
      "0\n"
     ]
    }
   ],
   "source": [
    "print(i)"
   ]
  },
  {
   "cell_type": "code",
   "execution_count": 10,
   "metadata": {},
   "outputs": [],
   "source": [
    "eign_vec_tuple = []"
   ]
  },
  {
   "cell_type": "code",
   "execution_count": 11,
   "metadata": {},
   "outputs": [],
   "source": [
    "j=0"
   ]
  },
  {
   "cell_type": "code",
   "execution_count": 12,
   "metadata": {},
   "outputs": [],
   "source": [
    "for x in eigen_vectors.transpose()[i]:\n",
    "    eign_vec_tuple.append((abs(x), search.links_list[j]))\n",
    "    j+=1"
   ]
  },
  {
   "cell_type": "code",
   "execution_count": 13,
   "metadata": {},
   "outputs": [
    {
     "data": {
      "text/plain": [
       "[(0.5415524188878287, 'http://mathmatrix.in/pagerank/page1.html'),\n",
       " (0.7220698918504388, 'http://mathmatrix.in/pagerank/page2.html'),\n",
       " (0.4061643141658719, 'http://mathmatrix.in/pagerank/page3.html'),\n",
       " (0.04512936824065243, 'http://mathmatrix.in/pagerank/page4.html'),\n",
       " (0.13538810472195714, 'http://mathmatrix.in/pagerank/page5.html')]"
      ]
     },
     "execution_count": 13,
     "metadata": {},
     "output_type": "execute_result"
    }
   ],
   "source": [
    "eign_vec_tuple"
   ]
  },
  {
   "cell_type": "code",
   "execution_count": 14,
   "metadata": {},
   "outputs": [],
   "source": [
    "eign_vec_tuple.sort(reverse = True )"
   ]
  },
  {
   "cell_type": "code",
   "execution_count": 15,
   "metadata": {},
   "outputs": [
    {
     "data": {
      "text/plain": [
       "[(0.7220698918504388, 'http://mathmatrix.in/pagerank/page2.html'),\n",
       " (0.5415524188878287, 'http://mathmatrix.in/pagerank/page1.html'),\n",
       " (0.4061643141658719, 'http://mathmatrix.in/pagerank/page3.html'),\n",
       " (0.13538810472195714, 'http://mathmatrix.in/pagerank/page5.html'),\n",
       " (0.04512936824065243, 'http://mathmatrix.in/pagerank/page4.html')]"
      ]
     },
     "execution_count": 15,
     "metadata": {},
     "output_type": "execute_result"
    }
   ],
   "source": [
    "eign_vec_tuple"
   ]
  },
  {
   "cell_type": "markdown",
   "metadata": {},
   "source": [
    "## Webpages after ranking"
   ]
  },
  {
   "cell_type": "code",
   "execution_count": 16,
   "metadata": {},
   "outputs": [
    {
     "name": "stdout",
     "output_type": "stream",
     "text": [
      "http://mathmatrix.in/pagerank/page2.html\n",
      "http://mathmatrix.in/pagerank/page1.html\n",
      "http://mathmatrix.in/pagerank/page3.html\n",
      "http://mathmatrix.in/pagerank/page5.html\n",
      "http://mathmatrix.in/pagerank/page4.html\n"
     ]
    }
   ],
   "source": [
    "for k in eign_vec_tuple:\n",
    "    print(k[1])"
   ]
  },
  {
   "cell_type": "code",
   "execution_count": null,
   "metadata": {},
   "outputs": [],
   "source": []
  }
 ],
 "metadata": {
  "kernelspec": {
   "display_name": "Python 3",
   "language": "python",
   "name": "python3"
  },
  "language_info": {
   "codemirror_mode": {
    "name": "ipython",
    "version": 3
   },
   "file_extension": ".py",
   "mimetype": "text/x-python",
   "name": "python",
   "nbconvert_exporter": "python",
   "pygments_lexer": "ipython3",
   "version": "3.7.1"
  }
 },
 "nbformat": 4,
 "nbformat_minor": 2
}
