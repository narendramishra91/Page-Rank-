{
 "cells": [
  {
   "cell_type": "code",
   "execution_count": 1,
   "metadata": {
    "scrolled": true
   },
   "outputs": [
    {
     "name": "stdout",
     "output_type": "stream",
     "text": [
      "Write the keyword you want to search:\n",
      "pagerank\n",
      "Pages Without ranking\n",
      "http://mathmatrix.in/pagerank/page1.html\n",
      "http://mathmatrix.in/pagerank/page2.html\n",
      "http://mathmatrix.in/pagerank/page3.html\n",
      "http://mathmatrix.in/pagerank/page4.html\n",
      "http://mathmatrix.in/pagerank/page5.html\n"
     ]
    }
   ],
   "source": [
    "import search"
   ]
  },
  {
   "cell_type": "code",
   "execution_count": 2,
   "metadata": {},
   "outputs": [],
   "source": [
    "trans_matrix = search.create_matrix()"
   ]
  },
  {
   "cell_type": "code",
   "execution_count": 3,
   "metadata": {},
   "outputs": [
    {
     "data": {
      "text/plain": [
       "array([[0.        , 0.5       , 0.33333333, 1.        , 0.        ],\n",
       "       [1.        , 0.        , 0.33333333, 0.        , 0.33333333],\n",
       "       [0.        , 0.5       , 0.        , 0.        , 0.33333333],\n",
       "       [0.        , 0.        , 0.        , 0.        , 0.33333333],\n",
       "       [0.        , 0.        , 0.33333333, 0.        , 0.        ]])"
      ]
     },
     "execution_count": 3,
     "metadata": {},
     "output_type": "execute_result"
    }
   ],
   "source": [
    "trans_matrix"
   ]
  },
  {
   "cell_type": "code",
   "execution_count": 4,
   "metadata": {},
   "outputs": [],
   "source": [
    "import scipy.linalg as la"
   ]
  },
  {
   "cell_type": "code",
   "execution_count": 5,
   "metadata": {},
   "outputs": [],
   "source": [
    "import numpy as np"
   ]
  },
  {
   "cell_type": "code",
   "execution_count": null,
   "metadata": {},
   "outputs": [],
   "source": []
  },
  {
   "cell_type": "code",
   "execution_count": 8,
   "metadata": {},
   "outputs": [],
   "source": [
    "from numpy.linalg import matrix_power"
   ]
  },
  {
   "cell_type": "code",
   "execution_count": 11,
   "metadata": {},
   "outputs": [],
   "source": [
    "nth_power = matrix_power(trans_matrix, 32)"
   ]
  },
  {
   "cell_type": "code",
   "execution_count": 12,
   "metadata": {},
   "outputs": [
    {
     "data": {
      "text/plain": [
       "array([[0.2926887 , 0.29267874, 0.2926823 , 0.29267624, 0.29268625],\n",
       "       [0.39023707, 0.39025042, 0.39024059, 0.39024865, 0.39024485],\n",
       "       [0.2195134 , 0.21950912, 0.21951777, 0.21951526, 0.21950602],\n",
       "       [0.02438908, 0.02439058, 0.02439168, 0.02439262, 0.024388  ],\n",
       "       [0.07317175, 0.07317113, 0.07316766, 0.07316723, 0.07317488]])"
      ]
     },
     "execution_count": 12,
     "metadata": {},
     "output_type": "execute_result"
    }
   ],
   "source": [
    "nth_power"
   ]
  },
  {
   "cell_type": "code",
   "execution_count": 16,
   "metadata": {},
   "outputs": [],
   "source": [
    "j = 0"
   ]
  },
  {
   "cell_type": "code",
   "execution_count": 17,
   "metadata": {},
   "outputs": [],
   "source": [
    "eign_vec_tuple = []"
   ]
  },
  {
   "cell_type": "code",
   "execution_count": 18,
   "metadata": {},
   "outputs": [],
   "source": [
    "for x in nth_power.transpose()[1]:\n",
    "    eign_vec_tuple.append((x, search.links_list[j]))\n",
    "    j+=1\n",
    "    "
   ]
  },
  {
   "cell_type": "code",
   "execution_count": 19,
   "metadata": {},
   "outputs": [
    {
     "data": {
      "text/plain": [
       "[(0.2926787446721831, 'http://mathmatrix.in/pagerank/page1.html'),\n",
       " (0.39025041747243794, 'http://mathmatrix.in/pagerank/page2.html'),\n",
       " (0.21950911947934737, 'http://mathmatrix.in/pagerank/page3.html'),\n",
       " (0.024390584820312006, 'http://mathmatrix.in/pagerank/page4.html'),\n",
       " (0.07317113355571858, 'http://mathmatrix.in/pagerank/page5.html')]"
      ]
     },
     "execution_count": 19,
     "metadata": {},
     "output_type": "execute_result"
    }
   ],
   "source": [
    "eign_vec_tuple"
   ]
  },
  {
   "cell_type": "code",
   "execution_count": 20,
   "metadata": {},
   "outputs": [],
   "source": [
    "p = tuple(eign_vec_tuple)"
   ]
  },
  {
   "cell_type": "code",
   "execution_count": 21,
   "metadata": {},
   "outputs": [
    {
     "data": {
      "text/plain": [
       "((0.2926787446721831, 'http://mathmatrix.in/pagerank/page1.html'),\n",
       " (0.39025041747243794, 'http://mathmatrix.in/pagerank/page2.html'),\n",
       " (0.21950911947934737, 'http://mathmatrix.in/pagerank/page3.html'),\n",
       " (0.024390584820312006, 'http://mathmatrix.in/pagerank/page4.html'),\n",
       " (0.07317113355571858, 'http://mathmatrix.in/pagerank/page5.html'))"
      ]
     },
     "execution_count": 21,
     "metadata": {},
     "output_type": "execute_result"
    }
   ],
   "source": [
    "p"
   ]
  },
  {
   "cell_type": "code",
   "execution_count": 27,
   "metadata": {},
   "outputs": [],
   "source": [
    "eign_vec_tuple.sort(reverse = True )"
   ]
  },
  {
   "cell_type": "code",
   "execution_count": 26,
   "metadata": {},
   "outputs": [
    {
     "data": {
      "text/plain": [
       "[(0.39025041747243794, 'http://mathmatrix.in/pagerank/page2.html'),\n",
       " (0.2926787446721831, 'http://mathmatrix.in/pagerank/page1.html'),\n",
       " (0.21950911947934737, 'http://mathmatrix.in/pagerank/page3.html'),\n",
       " (0.07317113355571858, 'http://mathmatrix.in/pagerank/page5.html'),\n",
       " (0.024390584820312006, 'http://mathmatrix.in/pagerank/page4.html')]"
      ]
     },
     "execution_count": 26,
     "metadata": {},
     "output_type": "execute_result"
    }
   ],
   "source": [
    "eign_vec_tuple"
   ]
  },
  {
   "cell_type": "markdown",
   "metadata": {},
   "source": [
    "## Pages after ranking"
   ]
  },
  {
   "cell_type": "code",
   "execution_count": 24,
   "metadata": {},
   "outputs": [
    {
     "name": "stdout",
     "output_type": "stream",
     "text": [
      "http://mathmatrix.in/pagerank/page2.html\n",
      "http://mathmatrix.in/pagerank/page1.html\n",
      "http://mathmatrix.in/pagerank/page3.html\n",
      "http://mathmatrix.in/pagerank/page5.html\n",
      "http://mathmatrix.in/pagerank/page4.html\n"
     ]
    }
   ],
   "source": [
    "for k in eign_vec_tuple:\n",
    "    print(k[1])"
   ]
  },
  {
   "cell_type": "code",
   "execution_count": null,
   "metadata": {},
   "outputs": [],
   "source": []
  },
  {
   "cell_type": "code",
   "execution_count": null,
   "metadata": {},
   "outputs": [],
   "source": []
  }
 ],
 "metadata": {
  "kernelspec": {
   "display_name": "Python 3",
   "language": "python",
   "name": "python3"
  },
  "language_info": {
   "codemirror_mode": {
    "name": "ipython",
    "version": 3
   },
   "file_extension": ".py",
   "mimetype": "text/x-python",
   "name": "python",
   "nbconvert_exporter": "python",
   "pygments_lexer": "ipython3",
   "version": "3.7.1"
  }
 },
 "nbformat": 4,
 "nbformat_minor": 2
}
