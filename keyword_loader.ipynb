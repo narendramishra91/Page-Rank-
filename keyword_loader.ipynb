{
 "cells": [
  {
   "cell_type": "code",
   "execution_count": 1,
   "metadata": {},
   "outputs": [],
   "source": [
    "import keyword_finder_2"
   ]
  },
  {
   "cell_type": "code",
   "execution_count": 2,
   "metadata": {},
   "outputs": [
    {
     "name": "stdout",
     "output_type": "stream",
     "text": [
      "http://mathmatrix.in/pagerank/page1.html\n"
     ]
    }
   ],
   "source": [
    "url = input()\n",
    "url_list = keyword_finder_2.keyword_finder_class(url)"
   ]
  },
  {
   "cell_type": "code",
   "execution_count": 3,
   "metadata": {},
   "outputs": [],
   "source": [
    "my_urls = url_list.hyperlinks"
   ]
  },
  {
   "cell_type": "code",
   "execution_count": 4,
   "metadata": {},
   "outputs": [
    {
     "data": {
      "text/plain": [
       "['http://mathmatrix.in/pagerank/page2.html']"
      ]
     },
     "execution_count": 4,
     "metadata": {},
     "output_type": "execute_result"
    }
   ],
   "source": [
    "my_urls"
   ]
  },
  {
   "cell_type": "code",
   "execution_count": 5,
   "metadata": {},
   "outputs": [
    {
     "name": "stdout",
     "output_type": "stream",
     "text": [
      "['page2', 'pagerank', 'pr', 'algorithm', 'used', 'google', 'rank', 'pages', 'engine', 'results', 'pagerank', 'named', 'after', 'larry', 'page1', 'founders', 'google', 'pagerank', 'way', 'measuring', 'importance', 'website', 'pages', 'according', 'google', 'pagerank', 'works', 'counting', 'number', 'quality', 'links', 'determine', 'rough', 'estimate', 'important', 'website', 'underlying', 'assumption', 'important', 'websites', 'likely', 'receive', 'links', 'websites2', 'currently', 'pagerank', 'algorithm', 'used', 'google', 'order', 'results', 'algorithm', 'used', 'company', 'best', 'known34', 'september', '24', '2019', 'pagerank', 'associated', 'patents', 'expired5', 'pagerank', 'algorithm']\n"
     ]
    }
   ],
   "source": [
    "url_list.save_keyword()"
   ]
  },
  {
   "cell_type": "code",
   "execution_count": null,
   "metadata": {},
   "outputs": [],
   "source": []
  }
 ],
 "metadata": {
  "kernelspec": {
   "display_name": "Python 3",
   "language": "python",
   "name": "python3"
  },
  "language_info": {
   "codemirror_mode": {
    "name": "ipython",
    "version": 3
   },
   "file_extension": ".py",
   "mimetype": "text/x-python",
   "name": "python",
   "nbconvert_exporter": "python",
   "pygments_lexer": "ipython3",
   "version": "3.7.1"
  }
 },
 "nbformat": 4,
 "nbformat_minor": 2
}
